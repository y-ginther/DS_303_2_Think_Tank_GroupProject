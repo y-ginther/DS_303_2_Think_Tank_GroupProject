{
 "cells": [
  {
   "cell_type": "raw",
   "id": "33dd6c4c",
   "metadata": {},
   "source": [
    "---\n",
    "title: \"Project Code\"\n",
    "subtitle: The Think Tank\n",
    "author: Connor Doolan, Rob Hickmott, Yui Ginther, Priya Thakore\n",
    "date: 03/13/2023\n",
    "number-sections: true\n",
    "abstract: _This file contains the code for the project on nba games predictions, as part of the STAT303-2 course in Winter 2023_.\n",
    "format: \n",
    "  html:\n",
    "    toc: true\n",
    "    toc-title: Contents\n",
    "    self-contained: true\n",
    "    font-size: 100%\n",
    "    toc-depth: 4\n",
    "    mainfont: serif\n",
    "jupyter: python3\n",
    "---"
   ]
  },
  {
   "cell_type": "code",
   "execution_count": 1,
   "id": "2daed0cd",
   "metadata": {},
   "outputs": [],
   "source": [
    "import pandas as pd\n",
    "import matplotlib.pyplot as plt\n",
    "import seaborn as sns\n",
    "import numpy as np\n",
    "import seaborn as sns"
   ]
  },
  {
   "cell_type": "markdown",
   "id": "fe7ea9bb",
   "metadata": {},
   "source": [
    "## Data quality check / cleaning / preparation \n",
    "\n",
    "Put code with comments. The comments should explain the code such that it can be easily understood. You may put text *(in a markdown cell)* before a large chunk of code to explain the overall purpose of the code, if it is not intuitive. **Put the name of the person / persons who contributed to each code chunk / set of code chunks.** An example is given below."
   ]
  },
  {
   "cell_type": "markdown",
   "id": "db149d8b",
   "metadata": {},
   "source": [
    "### Data quality check\n",
    "*By Connor Doolan and Rob Hickmott*"
   ]
  },
  {
   "cell_type": "markdown",
   "id": "2c1679f1",
   "metadata": {},
   "source": [
    "Uploading data from kaggle datasets into notebook"
   ]
  },
  {
   "cell_type": "code",
   "execution_count": 2,
   "id": "6bd8a761",
   "metadata": {},
   "outputs": [
    {
     "ename": "FileNotFoundError",
     "evalue": "[Errno 2] No such file or directory: 'data/games_details.csv'",
     "output_type": "error",
     "traceback": [
      "\u001b[0;31m---------------------------------------------------------------------------\u001b[0m",
      "\u001b[0;31mFileNotFoundError\u001b[0m                         Traceback (most recent call last)",
      "\u001b[1;32m/Users/yui/Documents/GitHub/DS_303_2_Think_Tank_GroupProject/.ipynb_checkpoints/Project_Code-checkpoint.ipynb Cell 6\u001b[0m in \u001b[0;36m1\n\u001b[0;32m----> <a href='vscode-notebook-cell:/Users/yui/Documents/GitHub/DS_303_2_Think_Tank_GroupProject/.ipynb_checkpoints/Project_Code-checkpoint.ipynb#W5sZmlsZQ%3D%3D?line=0'>1</a>\u001b[0m games_details \u001b[39m=\u001b[39m pd\u001b[39m.\u001b[39;49mread_csv(\u001b[39m'\u001b[39;49m\u001b[39mdata/games_details.csv\u001b[39;49m\u001b[39m'\u001b[39;49m)\n\u001b[1;32m      <a href='vscode-notebook-cell:/Users/yui/Documents/GitHub/DS_303_2_Think_Tank_GroupProject/.ipynb_checkpoints/Project_Code-checkpoint.ipynb#W5sZmlsZQ%3D%3D?line=1'>2</a>\u001b[0m games \u001b[39m=\u001b[39m pd\u001b[39m.\u001b[39mread_csv(\u001b[39m'\u001b[39m\u001b[39mdata/games.csv\u001b[39m\u001b[39m'\u001b[39m)\n\u001b[1;32m      <a href='vscode-notebook-cell:/Users/yui/Documents/GitHub/DS_303_2_Think_Tank_GroupProject/.ipynb_checkpoints/Project_Code-checkpoint.ipynb#W5sZmlsZQ%3D%3D?line=2'>3</a>\u001b[0m games_og \u001b[39m=\u001b[39m pd\u001b[39m.\u001b[39mread_csv(\u001b[39m'\u001b[39m\u001b[39mdata/games.csv\u001b[39m\u001b[39m'\u001b[39m)\n",
      "File \u001b[0;32m~/Library/Python/3.8/lib/python/site-packages/pandas/util/_decorators.py:211\u001b[0m, in \u001b[0;36mdeprecate_kwarg.<locals>._deprecate_kwarg.<locals>.wrapper\u001b[0;34m(*args, **kwargs)\u001b[0m\n\u001b[1;32m    209\u001b[0m     \u001b[39melse\u001b[39;00m:\n\u001b[1;32m    210\u001b[0m         kwargs[new_arg_name] \u001b[39m=\u001b[39m new_arg_value\n\u001b[0;32m--> 211\u001b[0m \u001b[39mreturn\u001b[39;00m func(\u001b[39m*\u001b[39;49margs, \u001b[39m*\u001b[39;49m\u001b[39m*\u001b[39;49mkwargs)\n",
      "File \u001b[0;32m~/Library/Python/3.8/lib/python/site-packages/pandas/util/_decorators.py:317\u001b[0m, in \u001b[0;36mdeprecate_nonkeyword_arguments.<locals>.decorate.<locals>.wrapper\u001b[0;34m(*args, **kwargs)\u001b[0m\n\u001b[1;32m    311\u001b[0m \u001b[39mif\u001b[39;00m \u001b[39mlen\u001b[39m(args) \u001b[39m>\u001b[39m num_allow_args:\n\u001b[1;32m    312\u001b[0m     warnings\u001b[39m.\u001b[39mwarn(\n\u001b[1;32m    313\u001b[0m         msg\u001b[39m.\u001b[39mformat(arguments\u001b[39m=\u001b[39marguments),\n\u001b[1;32m    314\u001b[0m         \u001b[39mFutureWarning\u001b[39;00m,\n\u001b[1;32m    315\u001b[0m         stacklevel\u001b[39m=\u001b[39mfind_stack_level(inspect\u001b[39m.\u001b[39mcurrentframe()),\n\u001b[1;32m    316\u001b[0m     )\n\u001b[0;32m--> 317\u001b[0m \u001b[39mreturn\u001b[39;00m func(\u001b[39m*\u001b[39;49margs, \u001b[39m*\u001b[39;49m\u001b[39m*\u001b[39;49mkwargs)\n",
      "File \u001b[0;32m~/Library/Python/3.8/lib/python/site-packages/pandas/io/parsers/readers.py:950\u001b[0m, in \u001b[0;36mread_csv\u001b[0;34m(filepath_or_buffer, sep, delimiter, header, names, index_col, usecols, squeeze, prefix, mangle_dupe_cols, dtype, engine, converters, true_values, false_values, skipinitialspace, skiprows, skipfooter, nrows, na_values, keep_default_na, na_filter, verbose, skip_blank_lines, parse_dates, infer_datetime_format, keep_date_col, date_parser, dayfirst, cache_dates, iterator, chunksize, compression, thousands, decimal, lineterminator, quotechar, quoting, doublequote, escapechar, comment, encoding, encoding_errors, dialect, error_bad_lines, warn_bad_lines, on_bad_lines, delim_whitespace, low_memory, memory_map, float_precision, storage_options)\u001b[0m\n\u001b[1;32m    935\u001b[0m kwds_defaults \u001b[39m=\u001b[39m _refine_defaults_read(\n\u001b[1;32m    936\u001b[0m     dialect,\n\u001b[1;32m    937\u001b[0m     delimiter,\n\u001b[0;32m   (...)\u001b[0m\n\u001b[1;32m    946\u001b[0m     defaults\u001b[39m=\u001b[39m{\u001b[39m\"\u001b[39m\u001b[39mdelimiter\u001b[39m\u001b[39m\"\u001b[39m: \u001b[39m\"\u001b[39m\u001b[39m,\u001b[39m\u001b[39m\"\u001b[39m},\n\u001b[1;32m    947\u001b[0m )\n\u001b[1;32m    948\u001b[0m kwds\u001b[39m.\u001b[39mupdate(kwds_defaults)\n\u001b[0;32m--> 950\u001b[0m \u001b[39mreturn\u001b[39;00m _read(filepath_or_buffer, kwds)\n",
      "File \u001b[0;32m~/Library/Python/3.8/lib/python/site-packages/pandas/io/parsers/readers.py:605\u001b[0m, in \u001b[0;36m_read\u001b[0;34m(filepath_or_buffer, kwds)\u001b[0m\n\u001b[1;32m    602\u001b[0m _validate_names(kwds\u001b[39m.\u001b[39mget(\u001b[39m\"\u001b[39m\u001b[39mnames\u001b[39m\u001b[39m\"\u001b[39m, \u001b[39mNone\u001b[39;00m))\n\u001b[1;32m    604\u001b[0m \u001b[39m# Create the parser.\u001b[39;00m\n\u001b[0;32m--> 605\u001b[0m parser \u001b[39m=\u001b[39m TextFileReader(filepath_or_buffer, \u001b[39m*\u001b[39;49m\u001b[39m*\u001b[39;49mkwds)\n\u001b[1;32m    607\u001b[0m \u001b[39mif\u001b[39;00m chunksize \u001b[39mor\u001b[39;00m iterator:\n\u001b[1;32m    608\u001b[0m     \u001b[39mreturn\u001b[39;00m parser\n",
      "File \u001b[0;32m~/Library/Python/3.8/lib/python/site-packages/pandas/io/parsers/readers.py:1442\u001b[0m, in \u001b[0;36mTextFileReader.__init__\u001b[0;34m(self, f, engine, **kwds)\u001b[0m\n\u001b[1;32m   1439\u001b[0m     \u001b[39mself\u001b[39m\u001b[39m.\u001b[39moptions[\u001b[39m\"\u001b[39m\u001b[39mhas_index_names\u001b[39m\u001b[39m\"\u001b[39m] \u001b[39m=\u001b[39m kwds[\u001b[39m\"\u001b[39m\u001b[39mhas_index_names\u001b[39m\u001b[39m\"\u001b[39m]\n\u001b[1;32m   1441\u001b[0m \u001b[39mself\u001b[39m\u001b[39m.\u001b[39mhandles: IOHandles \u001b[39m|\u001b[39m \u001b[39mNone\u001b[39;00m \u001b[39m=\u001b[39m \u001b[39mNone\u001b[39;00m\n\u001b[0;32m-> 1442\u001b[0m \u001b[39mself\u001b[39m\u001b[39m.\u001b[39m_engine \u001b[39m=\u001b[39m \u001b[39mself\u001b[39;49m\u001b[39m.\u001b[39;49m_make_engine(f, \u001b[39mself\u001b[39;49m\u001b[39m.\u001b[39;49mengine)\n",
      "File \u001b[0;32m~/Library/Python/3.8/lib/python/site-packages/pandas/io/parsers/readers.py:1729\u001b[0m, in \u001b[0;36mTextFileReader._make_engine\u001b[0;34m(self, f, engine)\u001b[0m\n\u001b[1;32m   1727\u001b[0m     is_text \u001b[39m=\u001b[39m \u001b[39mFalse\u001b[39;00m\n\u001b[1;32m   1728\u001b[0m     mode \u001b[39m=\u001b[39m \u001b[39m\"\u001b[39m\u001b[39mrb\u001b[39m\u001b[39m\"\u001b[39m\n\u001b[0;32m-> 1729\u001b[0m \u001b[39mself\u001b[39m\u001b[39m.\u001b[39mhandles \u001b[39m=\u001b[39m get_handle(\n\u001b[1;32m   1730\u001b[0m     f,\n\u001b[1;32m   1731\u001b[0m     mode,\n\u001b[1;32m   1732\u001b[0m     encoding\u001b[39m=\u001b[39;49m\u001b[39mself\u001b[39;49m\u001b[39m.\u001b[39;49moptions\u001b[39m.\u001b[39;49mget(\u001b[39m\"\u001b[39;49m\u001b[39mencoding\u001b[39;49m\u001b[39m\"\u001b[39;49m, \u001b[39mNone\u001b[39;49;00m),\n\u001b[1;32m   1733\u001b[0m     compression\u001b[39m=\u001b[39;49m\u001b[39mself\u001b[39;49m\u001b[39m.\u001b[39;49moptions\u001b[39m.\u001b[39;49mget(\u001b[39m\"\u001b[39;49m\u001b[39mcompression\u001b[39;49m\u001b[39m\"\u001b[39;49m, \u001b[39mNone\u001b[39;49;00m),\n\u001b[1;32m   1734\u001b[0m     memory_map\u001b[39m=\u001b[39;49m\u001b[39mself\u001b[39;49m\u001b[39m.\u001b[39;49moptions\u001b[39m.\u001b[39;49mget(\u001b[39m\"\u001b[39;49m\u001b[39mmemory_map\u001b[39;49m\u001b[39m\"\u001b[39;49m, \u001b[39mFalse\u001b[39;49;00m),\n\u001b[1;32m   1735\u001b[0m     is_text\u001b[39m=\u001b[39;49mis_text,\n\u001b[1;32m   1736\u001b[0m     errors\u001b[39m=\u001b[39;49m\u001b[39mself\u001b[39;49m\u001b[39m.\u001b[39;49moptions\u001b[39m.\u001b[39;49mget(\u001b[39m\"\u001b[39;49m\u001b[39mencoding_errors\u001b[39;49m\u001b[39m\"\u001b[39;49m, \u001b[39m\"\u001b[39;49m\u001b[39mstrict\u001b[39;49m\u001b[39m\"\u001b[39;49m),\n\u001b[1;32m   1737\u001b[0m     storage_options\u001b[39m=\u001b[39;49m\u001b[39mself\u001b[39;49m\u001b[39m.\u001b[39;49moptions\u001b[39m.\u001b[39;49mget(\u001b[39m\"\u001b[39;49m\u001b[39mstorage_options\u001b[39;49m\u001b[39m\"\u001b[39;49m, \u001b[39mNone\u001b[39;49;00m),\n\u001b[1;32m   1738\u001b[0m )\n\u001b[1;32m   1739\u001b[0m \u001b[39massert\u001b[39;00m \u001b[39mself\u001b[39m\u001b[39m.\u001b[39mhandles \u001b[39mis\u001b[39;00m \u001b[39mnot\u001b[39;00m \u001b[39mNone\u001b[39;00m\n\u001b[1;32m   1740\u001b[0m f \u001b[39m=\u001b[39m \u001b[39mself\u001b[39m\u001b[39m.\u001b[39mhandles\u001b[39m.\u001b[39mhandle\n",
      "File \u001b[0;32m~/Library/Python/3.8/lib/python/site-packages/pandas/io/common.py:857\u001b[0m, in \u001b[0;36mget_handle\u001b[0;34m(path_or_buf, mode, encoding, compression, memory_map, is_text, errors, storage_options)\u001b[0m\n\u001b[1;32m    852\u001b[0m \u001b[39melif\u001b[39;00m \u001b[39misinstance\u001b[39m(handle, \u001b[39mstr\u001b[39m):\n\u001b[1;32m    853\u001b[0m     \u001b[39m# Check whether the filename is to be opened in binary mode.\u001b[39;00m\n\u001b[1;32m    854\u001b[0m     \u001b[39m# Binary mode does not support 'encoding' and 'newline'.\u001b[39;00m\n\u001b[1;32m    855\u001b[0m     \u001b[39mif\u001b[39;00m ioargs\u001b[39m.\u001b[39mencoding \u001b[39mand\u001b[39;00m \u001b[39m\"\u001b[39m\u001b[39mb\u001b[39m\u001b[39m\"\u001b[39m \u001b[39mnot\u001b[39;00m \u001b[39min\u001b[39;00m ioargs\u001b[39m.\u001b[39mmode:\n\u001b[1;32m    856\u001b[0m         \u001b[39m# Encoding\u001b[39;00m\n\u001b[0;32m--> 857\u001b[0m         handle \u001b[39m=\u001b[39m \u001b[39mopen\u001b[39;49m(\n\u001b[1;32m    858\u001b[0m             handle,\n\u001b[1;32m    859\u001b[0m             ioargs\u001b[39m.\u001b[39;49mmode,\n\u001b[1;32m    860\u001b[0m             encoding\u001b[39m=\u001b[39;49mioargs\u001b[39m.\u001b[39;49mencoding,\n\u001b[1;32m    861\u001b[0m             errors\u001b[39m=\u001b[39;49merrors,\n\u001b[1;32m    862\u001b[0m             newline\u001b[39m=\u001b[39;49m\u001b[39m\"\u001b[39;49m\u001b[39m\"\u001b[39;49m,\n\u001b[1;32m    863\u001b[0m         )\n\u001b[1;32m    864\u001b[0m     \u001b[39melse\u001b[39;00m:\n\u001b[1;32m    865\u001b[0m         \u001b[39m# Binary mode\u001b[39;00m\n\u001b[1;32m    866\u001b[0m         handle \u001b[39m=\u001b[39m \u001b[39mopen\u001b[39m(handle, ioargs\u001b[39m.\u001b[39mmode)\n",
      "\u001b[0;31mFileNotFoundError\u001b[0m: [Errno 2] No such file or directory: 'data/games_details.csv'"
     ]
    }
   ],
   "source": [
    "games_details = pd.read_csv('data/games_details.csv')\n",
    "games = pd.read_csv('data/games.csv')\n",
    "games_og = pd.read_csv('data/games.csv')\n",
    "rankings = pd.read_csv('data/ranking.csv')"
   ]
  },
  {
   "cell_type": "code",
   "execution_count": 34,
   "id": "2a09bd5b",
   "metadata": {},
   "outputs": [
    {
     "data": {
      "text/plain": [
       "Index(['GAME_DATE_EST', 'GAME_ID', 'GAME_STATUS_TEXT', 'HOME_TEAM_ID',\n",
       "       'VISITOR_TEAM_ID', 'SEASON', 'TEAM_ID_home', 'PTS_home', 'FG_PCT_home',\n",
       "       'FT_PCT_home', 'FG3_PCT_home', 'AST_home', 'REB_home', 'TEAM_ID_away',\n",
       "       'PTS_away', 'FG_PCT_away', 'FT_PCT_away', 'FG3_PCT_away', 'AST_away',\n",
       "       'REB_away', 'HOME_TEAM_WINS'],\n",
       "      dtype='object')"
      ]
     },
     "execution_count": 34,
     "metadata": {},
     "output_type": "execute_result"
    }
   ],
   "source": [
    "# identify variables that can help predict probability(HOME_TEAM_WINS)\n",
    "games.columns"
   ]
  },
  {
   "cell_type": "markdown",
   "id": "7f5e9099",
   "metadata": {},
   "source": [
    "Variables include game/team identifiers and potential predictors.\n",
    "\n",
    "From prior knowledge of basic nba data as well as availability of continuous predictors, we have 7 important predictor variables: points, field goal percentage, free throw percentage, 3 point field goal percentage, assists, rebounds, and win percentage."
   ]
  },
  {
   "cell_type": "code",
   "execution_count": 35,
   "id": "345280cc",
   "metadata": {
    "scrolled": true
   },
   "outputs": [
    {
     "data": {
      "text/plain": [
       "GAME_DATE_EST        0\n",
       "GAME_ID              0\n",
       "GAME_STATUS_TEXT     0\n",
       "HOME_TEAM_ID         0\n",
       "VISITOR_TEAM_ID      0\n",
       "SEASON               0\n",
       "TEAM_ID_home         0\n",
       "PTS_home            99\n",
       "FG_PCT_home         99\n",
       "FT_PCT_home         99\n",
       "FG3_PCT_home        99\n",
       "AST_home            99\n",
       "REB_home            99\n",
       "TEAM_ID_away         0\n",
       "PTS_away            99\n",
       "FG_PCT_away         99\n",
       "FT_PCT_away         99\n",
       "FG3_PCT_away        99\n",
       "AST_away            99\n",
       "REB_away            99\n",
       "HOME_TEAM_WINS       0\n",
       "dtype: int64"
      ]
     },
     "execution_count": 35,
     "metadata": {},
     "output_type": "execute_result"
    }
   ],
   "source": [
    "#Display NULL values\n",
    "games.isna().sum()"
   ]
  },
  {
   "cell_type": "markdown",
   "id": "788b6986",
   "metadata": {},
   "source": [
    "Note that the potential predictors each have 99 observations missing. We hypothesize that these are all from the 2003 season, ie. the first season these statistics were recorded in our data set."
   ]
  },
  {
   "cell_type": "code",
   "execution_count": 67,
   "id": "c4e1468b",
   "metadata": {},
   "outputs": [
    {
     "data": {
      "text/plain": [
       "<AxesSubplot:xlabel='HOME_TEAM_WINS', ylabel='Density'>"
      ]
     },
     "execution_count": 67,
     "metadata": {},
     "output_type": "execute_result"
    },
    {
     "data": {
      "image/png": "[encoded data removed]",
      "text/plain": [
       "<Figure size 432x288 with 8 Axes>"
      ]
     },
     "metadata": {
      "needs_background": "light"
     },
     "output_type": "display_data"
    }
   ],
   "source": [
    "#Verify normal distribution of our continous variables (safe to assume same results from away statistics)\n",
    "fig, axes = plt.subplots(2, 4)  \n",
    "sns.kdeplot(games['PTS_home'], ax=axes[0,0]) \n",
    "sns.kdeplot(games['FG_PCT_home'], ax=axes[0,1]) \n",
    "sns.kdeplot(games['FT_PCT_home'], ax=axes[0,2]) \n",
    "sns.kdeplot(games['FG3_PCT_home'], ax=axes[1,0]) \n",
    "sns.kdeplot(games['AST_home'], ax=axes[1,1]) \n",
    "sns.kdeplot(games['REB_home'], ax =axes[1,2])\n",
    "sns.kdeplot(games['HOME_TEAM_WINS'], ax=axes[1,3]) "
   ]
  },
  {
   "cell_type": "markdown",
   "id": "d1561829",
   "metadata": {},
   "source": [
    "### Data cleaning\n",
    "*By Connor Doolan and Rob Hickmott*\n",
    "\n",
    "From the data quality check we realized that:\n",
    "\n",
    "1. There were 99 null variables that we needed to eliminate\n",
    "\n",
    "2. Games data needed to be sorted by date\n",
    "\n",
    "The code below implements the above cleaning."
   ]
  },
  {
   "cell_type": "code",
   "execution_count": 65,
   "id": "0952aff3",
   "metadata": {},
   "outputs": [
    {
     "data": {
      "text/plain": [
       "GAME_DATE_EST       0\n",
       "GAME_ID             0\n",
       "GAME_STATUS_TEXT    0\n",
       "HOME_TEAM_ID        0\n",
       "VISITOR_TEAM_ID     0\n",
       "SEASON              0\n",
       "TEAM_ID_home        0\n",
       "PTS_home            0\n",
       "FG_PCT_home         0\n",
       "FT_PCT_home         0\n",
       "FG3_PCT_home        0\n",
       "AST_home            0\n",
       "REB_home            0\n",
       "TEAM_ID_away        0\n",
       "PTS_away            0\n",
       "FG_PCT_away         0\n",
       "FT_PCT_away         0\n",
       "FG3_PCT_away        0\n",
       "AST_away            0\n",
       "REB_away            0\n",
       "HOME_TEAM_WINS      0\n",
       "dtype: int64"
      ]
     },
     "execution_count": 65,
     "metadata": {},
     "output_type": "execute_result"
    }
   ],
   "source": [
    "games = games[games.SEASON != 2003]\n",
    "games.isna().sum()"
   ]
  },
  {
   "cell_type": "markdown",
   "id": "c26e9ccd",
   "metadata": {},
   "source": [
    "### Data preparation\n",
    "*By Connor Doolan and Rob Hickmott*\n",
    "\n",
    "The following data preparation steps helped us to prepare our data for implementing various modeling / validation techniques:\n",
    "\n",
    "1. Our predictor variables were all on an individual game-by-game basis. To make them applicable to our prediction problem, we need to aggregate each variable (by finding the respective average) up until the relevant game/observation in each season. For example find a team's points per game on the season at each specific game they play. This is because the aggregated data is what's readily available for making predictions.\n",
    "\n",
    "2. We realized game data included the preseason and postseason games for each year. Our project focuses on regular season win probability, so we needed to filter these out.\n",
    "\n",
    "3. We assumed aggregated data became an accurate representation of a team's performance/talent/determinant of win probability only after 10 games. Thus, for test and training data, we only included games following roughly each team's 10th game of the season"
   ]
  },
  {
   "cell_type": "markdown",
   "id": "449e9ec4",
   "metadata": {},
   "source": [
    "The following code chunks are our steps for aggregated variable creation"
   ]
  },
  {
   "cell_type": "code",
   "execution_count": 9,
   "id": "1b7674e2",
   "metadata": {},
   "outputs": [],
   "source": [
    "#all NaN values are in 2003, start in 2004\n",
    "games.sort_values('GAME_DATE_EST', inplace=True)\n",
    "\n",
    "team_pts = {}\n",
    "current_season = 2004\n",
    "\n",
    "for index, row in games.iterrows():\n",
    "    if row['SEASON'] == current_season:\n",
    "        home_team_id = row['HOME_TEAM_ID']\n",
    "        away_team_id = row['VISITOR_TEAM_ID']\n",
    "        home_team_pts = row['PTS_home']\n",
    "        away_team_pts = row['PTS_away']\n",
    "\n",
    "        if home_team_id not in team_pts:\n",
    "            team_pts[home_team_id] = {'pts': 0, 'num_games': 0}\n",
    "\n",
    "        if away_team_id not in team_pts:\n",
    "            team_pts[away_team_id] = {'pts': 0, 'num_games': 0}\n",
    "\n",
    "        team_pts[home_team_id]['pts'] += home_team_pts\n",
    "        team_pts[away_team_id]['pts'] += away_team_pts\n",
    "        team_pts[home_team_id]['num_games'] += 1\n",
    "        team_pts[away_team_id]['num_games'] += 1\n",
    "\n",
    "        if team_pts[home_team_id]['num_games'] > 1:\n",
    "            home_team_avg_pts = (team_pts[home_team_id]['pts'] - home_team_pts) / (team_pts[home_team_id]['num_games'] - 1)\n",
    "        else:\n",
    "            home_team_avg_pts = np.nan\n",
    "\n",
    "        if team_pts[away_team_id]['num_games'] > 1:\n",
    "            away_team_avg_pts = (team_pts[away_team_id]['pts'] - away_team_pts) / (team_pts[away_team_id]['num_games'] - 1)\n",
    "        else:\n",
    "            away_team_avg_pts = np.nan\n",
    "\n",
    "        games.loc[index, 'HOME_TEAM_PTS_AVG'] = home_team_avg_pts\n",
    "        games.loc[index, 'AWAY_TEAM_PTS_AVG'] = away_team_avg_pts\n",
    "\n",
    "    else:\n",
    "        current_season = current_season + 1\n",
    "        team_pts = {}\n",
    "        home_team_id = row['HOME_TEAM_ID']\n",
    "        away_team_id = row['VISITOR_TEAM_ID']\n",
    "        home_team_pts = row['PTS_home']\n",
    "        away_team_pts = row['PTS_away']\n",
    "\n",
    "        if home_team_id not in team_pts:\n",
    "            team_pts[home_team_id] = {'pts': 0, 'num_games': 0}\n",
    "\n",
    "        if away_team_id not in team_pts:\n",
    "            team_pts[away_team_id] = {'pts': 0, 'num_games': 0}\n",
    "\n",
    "        team_pts[home_team_id]['pts'] += home_team_pts\n",
    "        team_pts[away_team_id]['pts'] += away_team_pts\n",
    "        team_pts[home_team_id]['num_games'] += 1\n",
    "        team_pts[away_team_id]['num_games'] += 1\n",
    "\n",
    "        if team_pts[home_team_id]['num_games'] > 1:\n",
    "            home_team_avg_pts = (team_pts[home_team_id]['pts'] - home_team_pts) / (team_pts[home_team_id]['num_games'] - 1)\n",
    "        else:\n",
    "            home_team_avg_pts = np.nan\n",
    "\n",
    "        if team_pts[away_team_id]['num_games'] > 1:\n",
    "            away_team_avg_pts = (team_pts[away_team_id]['pts'] - away_team_pts) / (team_pts[away_team_id]['num_games'] - 1)\n",
    "        else:\n",
    "            away_team_avg_pts = np.nan\n",
    "\n",
    "        games.loc[index, 'HOME_TEAM_PTS_AVG'] = home_team_avg_pts\n",
    "        games.loc[index, 'AWAY_TEAM_PTS_AVG'] = away_team_avg_pts"
   ]
  },
  {
   "cell_type": "code",
   "execution_count": 10,
   "id": "55fdc6c8",
   "metadata": {},
   "outputs": [],
   "source": [
    "games.sort_values('GAME_DATE_EST', inplace=True)\n",
    "\n",
    "team_ast = {}\n",
    "current_season = 2004\n",
    "\n",
    "for index, row in games.iterrows():\n",
    "    if row['SEASON'] == current_season:\n",
    "        home_team_id = row['HOME_TEAM_ID']\n",
    "        away_team_id = row['VISITOR_TEAM_ID']\n",
    "        home_team_ast = row['AST_home']\n",
    "        away_team_ast = row['AST_away']\n",
    "\n",
    "        if home_team_id not in team_ast:\n",
    "            team_ast[home_team_id] = {'ast': 0, 'num_games': 0}\n",
    "\n",
    "        if away_team_id not in team_ast:\n",
    "            team_ast[away_team_id] = {'ast': 0, 'num_games': 0}\n",
    "\n",
    "        team_ast[home_team_id]['ast'] += home_team_ast\n",
    "        team_ast[away_team_id]['ast'] += away_team_ast\n",
    "        team_ast[home_team_id]['num_games'] += 1\n",
    "        team_ast[away_team_id]['num_games'] += 1\n",
    "\n",
    "        if team_ast[home_team_id]['num_games'] > 1:\n",
    "            home_team_avg_ast = (team_ast[home_team_id]['ast'] - home_team_ast) / (team_ast[home_team_id]['num_games'] - 1)\n",
    "        else:\n",
    "            home_team_avg_ast = np.nan\n",
    "\n",
    "        if team_ast[away_team_id]['num_games'] > 1:\n",
    "            away_team_avg_ast = (team_ast[away_team_id]['ast'] - away_team_ast) / (team_ast[away_team_id]['num_games'] - 1)\n",
    "        else:\n",
    "            away_team_avg_ast = np.nan\n",
    "\n",
    "        games.loc[index, 'HOME_TEAM_AST_AVG'] = home_team_avg_ast\n",
    "        games.loc[index, 'AWAY_TEAM_AST_AVG'] = away_team_avg_ast\n",
    "\n",
    "    else:\n",
    "        current_season = current_season + 1\n",
    "        team_ast = {}\n",
    "        home_team_id = row['HOME_TEAM_ID']\n",
    "        away_team_id = row['VISITOR_TEAM_ID']\n",
    "        home_team_ast = row['AST_home']\n",
    "        away_team_ast = row['AST_away']\n",
    "\n",
    "        if home_team_id not in team_ast:\n",
    "            team_ast[home_team_id] = {'ast': 0, 'num_games': 0}\n",
    "\n",
    "        if away_team_id not in team_ast:\n",
    "            team_ast[away_team_id] = {'ast': 0, 'num_games': 0}\n",
    "\n",
    "        team_ast[home_team_id]['ast'] += home_team_ast\n",
    "        team_ast[away_team_id]['ast'] += away_team_ast\n",
    "        team_ast[home_team_id]['num_games'] += 1\n",
    "        team_ast[away_team_id]['num_games'] += 1\n",
    "\n",
    "        if team_ast[home_team_id]['num_games'] > 1:\n",
    "            home_team_avg_ast = (team_ast[home_team_id]['ast'] - home_team_ast) / (team_ast[home_team_id]['num_games'] - 1)\n",
    "        else:\n",
    "            home_team_avg_ast = np.nan\n",
    "\n",
    "        if team_ast[away_team_id]['num_games'] > 1:\n",
    "            away_team_avg_ast = (team_ast[away_team_id]['ast'] - away_team_ast) / (team_ast[away_team_id]['num_games'] - 1)\n",
    "        else:\n",
    "            away_team_avg_ast = np.nan\n",
    "\n",
    "        games.loc[index, 'HOME_TEAM_AST_AVG'] = home_team_avg_ast\n",
    "        games.loc[index, 'AWAY_TEAM_AST_AVG'] = away_team_avg_ast"
   ]
  },
  {
   "cell_type": "code",
   "execution_count": 11,
   "id": "8f083574",
   "metadata": {},
   "outputs": [],
   "source": [
    "games.sort_values('GAME_DATE_EST', inplace=True)\n",
    "\n",
    "team_reb = {}\n",
    "current_season = 2004\n",
    "\n",
    "for index, row in games.iterrows():\n",
    "    if row['SEASON'] == current_season:\n",
    "        home_team_id = row['HOME_TEAM_ID']\n",
    "        away_team_id = row['VISITOR_TEAM_ID']\n",
    "        home_team_reb = row['REB_home']\n",
    "        away_team_reb = row['REB_away']\n",
    "\n",
    "        if home_team_id not in team_reb:\n",
    "            team_reb[home_team_id] = {'reb': 0, 'num_games': 0}\n",
    "\n",
    "        if away_team_id not in team_reb:\n",
    "            team_reb[away_team_id] = {'reb': 0, 'num_games': 0}\n",
    "\n",
    "        team_reb[home_team_id]['reb'] += home_team_reb\n",
    "        team_reb[away_team_id]['reb'] += away_team_reb\n",
    "        team_reb[home_team_id]['num_games'] += 1\n",
    "        team_reb[away_team_id]['num_games'] += 1\n",
    "\n",
    "        if team_reb[home_team_id]['num_games'] > 1:\n",
    "            home_team_avg_reb = (team_reb[home_team_id]['reb'] - home_team_reb) / (team_reb[home_team_id]['num_games'] - 1)\n",
    "        else:\n",
    "            home_team_avg_reb = np.nan\n",
    "\n",
    "        if team_reb[away_team_id]['num_games'] > 1:\n",
    "            away_team_avg_reb = (team_reb[away_team_id]['reb'] - away_team_reb) / (team_reb[away_team_id]['num_games'] - 1)\n",
    "        else:\n",
    "            away_team_avg_reb = np.nan\n",
    "\n",
    "        games.loc[index, 'HOME_TEAM_REB_AVG'] = home_team_avg_reb\n",
    "        games.loc[index, 'AWAY_TEAM_REB_AVG'] = away_team_avg_reb\n",
    "\n",
    "    else:\n",
    "        current_season = current_season + 1\n",
    "        team_reb = {}\n",
    "        home_team_id = row['HOME_TEAM_ID']\n",
    "        away_team_id = row['VISITOR_TEAM_ID']\n",
    "        home_team_reb = row['REB_home']\n",
    "        away_team_reb = row['REB_away']\n",
    "\n",
    "        if home_team_id not in team_reb:\n",
    "            team_reb[home_team_id] = {'reb': 0, 'num_games': 0}\n",
    "\n",
    "        if away_team_id not in team_reb:\n",
    "            team_reb[away_team_id] = {'reb': 0, 'num_games': 0}\n",
    "\n",
    "            team_reb[home_team_id]['reb'] += home_team_reb\n",
    "            team_reb[away_team_id]['reb'] += away_team_reb\n",
    "            team_reb[home_team_id]['num_games'] += 1\n",
    "            team_reb[away_team_id]['num_games'] += 1\n",
    "\n",
    "        if team_reb[home_team_id]['num_games'] > 1:\n",
    "            home_team_avg_reb = (team_reb[home_team_id]['reb'] - home_team_reb) / (team_reb[home_team_id]['num_games'] - 1)\n",
    "        else:\n",
    "            home_team_avg_reb = np.nan\n",
    "\n",
    "        if team_reb[away_team_id]['num_games'] > 1:\n",
    "            away_team_avg_reb = (team_reb[away_team_id]['reb'] - away_team_reb) / (team_reb[away_team_id]['num_games'] - 1)\n",
    "        else:\n",
    "            away_team_avg_reb = np.nan\n",
    "\n",
    "        games.loc[index, 'HOME_TEAM_REB_AVG'] = home_team_avg_reb\n",
    "        games.loc[index, 'AWAY_TEAM_REB_AVG'] = away_team_avg_reb"
   ]
  },
  {
   "cell_type": "code",
   "execution_count": 12,
   "id": "3dda64ac",
   "metadata": {},
   "outputs": [],
   "source": [
    "games.sort_values('GAME_DATE_EST', inplace=True)\n",
    "\n",
    "team_wins = {}\n",
    "current_season = 2004\n",
    "\n",
    "for index, row in games.iterrows():\n",
    "    if row['SEASON'] == current_season:\n",
    "        home_team_id = row['HOME_TEAM_ID']\n",
    "        away_team_id = row['VISITOR_TEAM_ID']\n",
    "        home_team_wins = row['HOME_TEAM_WINS']\n",
    "        away_team_wins = abs(row['HOME_TEAM_WINS']-1)\n",
    "\n",
    "        if home_team_id not in team_wins:\n",
    "            team_wins[home_team_id] = {'wins': 0, 'num_games': 0}\n",
    "\n",
    "        if away_team_id not in team_wins:\n",
    "            team_wins[away_team_id] = {'wins': 0, 'num_games': 0}\n",
    "\n",
    "        team_wins[home_team_id]['wins'] += home_team_wins\n",
    "        team_wins[away_team_id]['wins'] += away_team_wins\n",
    "        team_wins[home_team_id]['num_games'] += 1\n",
    "        team_wins[away_team_id]['num_games'] += 1\n",
    "\n",
    "        if team_wins[home_team_id]['num_games'] > 1:\n",
    "            home_team_avg_wins = (team_wins[home_team_id]['wins'] - home_team_wins) / (team_wins[home_team_id]['num_games'] - 1)\n",
    "        else:\n",
    "            home_team_avg_wins = np.nan\n",
    "\n",
    "        if team_wins[away_team_id]['num_games'] > 1:\n",
    "            away_team_avg_wins = (team_wins[away_team_id]['wins'] - away_team_wins) / (team_wins[away_team_id]['num_games'] - 1)\n",
    "        else:\n",
    "            away_team_avg_wins = np.nan\n",
    "\n",
    "        games.loc[index, 'HOME_TEAM_WIN_PCT'] = home_team_avg_wins\n",
    "        games.loc[index, 'AWAY_TEAM_WIN_PCT'] = away_team_avg_wins\n",
    "\n",
    "    else:\n",
    "        current_season = row['SEASON']\n",
    "        team_wins = {}\n",
    "        home_team_id = row['HOME_TEAM_ID']\n",
    "        away_team_id = row['VISITOR_TEAM_ID']\n",
    "        home_team_wins = row['HOME_TEAM_WINS']\n",
    "        away_team_wins = abs(row['HOME_TEAM_WINS']-1)\n",
    "\n",
    "        if home_team_id not in team_wins:\n",
    "            team_wins[home_team_id] = {'wins': 0, 'num_games': 0}\n",
    "\n",
    "        if away_team_id not in team_wins:\n",
    "            team_wins[away_team_id] = {'wins': 0, 'num_games': 0}\n",
    "\n",
    "        team_wins[home_team_id]['wins'] += home_team_wins\n",
    "        team_wins[away_team_id]['wins'] += away_team_wins\n",
    "        team_wins[home_team_id]['num_games'] += 1\n",
    "        team_wins[away_team_id]['num_games'] += 1\n",
    "\n",
    "        if team_wins[home_team_id]['num_games'] > 1:\n",
    "            home_team_avg_wins = (team_wins[home_team_id]['wins'] - home_team_wins) / (team_wins[home_team_id]['num_games'] - 1)\n",
    "        else:\n",
    "            home_team_avg_wins = np.nan\n",
    "\n",
    "        if team_wins[away_team_id]['num_games'] > 1:\n",
    "            away_team_avg_wins = (team_wins[away_team_id]['wins'] - away_team_wins) / (team_wins[away_team_id]['num_games'] - 1)\n",
    "        else:\n",
    "            away_team_avg_wins = np.nan\n",
    "\n",
    "        games.loc[index, 'HOME_TEAM_WIN_PCT'] = home_team_avg_wins\n",
    "        games.loc[index, 'AWAY_TEAM_WIN_PCT'] = away_team_avg_wins"
   ]
  },
  {
   "cell_type": "code",
   "execution_count": 13,
   "id": "87e342eb",
   "metadata": {},
   "outputs": [],
   "source": [
    "games.sort_values('GAME_DATE_EST', inplace=True)\n",
    "\n",
    "team_fg = {}\n",
    "current_season = 2004\n",
    "\n",
    "for index, row in games.iterrows():\n",
    "    if row['SEASON'] == current_season:\n",
    "        home_team_id = row['HOME_TEAM_ID']\n",
    "        away_team_id = row['VISITOR_TEAM_ID']\n",
    "        home_team_fg = row['FG_PCT_home']\n",
    "        away_team_fg = row['FG_PCT_away']\n",
    "\n",
    "        if home_team_id not in team_fg:\n",
    "            team_fg[home_team_id] = {'fg': 0, 'num_games': 0}\n",
    "\n",
    "        if away_team_id not in team_fg:\n",
    "            team_fg[away_team_id] = {'fg': 0, 'num_games': 0}\n",
    "\n",
    "        team_fg[home_team_id]['fg'] += home_team_fg\n",
    "        team_fg[away_team_id]['fg'] += away_team_fg\n",
    "        team_fg[home_team_id]['num_games'] += 1\n",
    "        team_fg[away_team_id]['num_games'] += 1\n",
    "\n",
    "        if team_fg[home_team_id]['num_games'] > 1:\n",
    "            home_team_avg_fg = (team_fg[home_team_id]['fg'] - home_team_fg) / (team_fg[home_team_id]['num_games'] - 1)\n",
    "        else:\n",
    "            home_team_avg_fg = np.nan\n",
    "\n",
    "        if team_fg[away_team_id]['num_games'] > 1:\n",
    "            away_team_avg_fg = (team_fg[away_team_id]['fg'] - away_team_fg) / (team_fg[away_team_id]['num_games'] - 1)\n",
    "        else:\n",
    "            away_team_avg_fg = np.nan\n",
    "\n",
    "        games.loc[index, 'HOME_TEAM_FG_PCT_AVG'] = home_team_avg_fg\n",
    "        games.loc[index, 'AWAY_TEAM_FG_PCT_AVG'] = away_team_avg_fg\n",
    "\n",
    "    else:\n",
    "        current_season = current_season + 1\n",
    "        team_fg = {}\n",
    "        home_team_id = row['HOME_TEAM_ID']\n",
    "        away_team_id = row['VISITOR_TEAM_ID']\n",
    "        home_team_fg = row['FG_PCT_home']\n",
    "        away_team_fg = row['FG_PCT_away']\n",
    "\n",
    "        if home_team_id not in team_fg:\n",
    "            team_fg[home_team_id] = {'fg': 0, 'num_games': 0}\n",
    "\n",
    "        if away_team_id not in team_fg:\n",
    "            team_fg[away_team_id] = {'fg': 0, 'num_games': 0}\n",
    "\n",
    "        team_fg[home_team_id]['fg'] += home_team_fg\n",
    "        team_fg[away_team_id]['fg'] += away_team_fg\n",
    "        team_fg[home_team_id]['num_games'] += 1\n",
    "        team_fg[away_team_id]['num_games'] += 1\n",
    "\n",
    "        if team_fg[home_team_id]['num_games'] > 1:\n",
    "            home_team_avg_fg = (team_fg[home_team_id]['fg'] - home_team_fg) / (team_fg[home_team_id]['num_games'] - 1)\n",
    "        else:\n",
    "            home_team_avg_fg = np.nan\n",
    "\n",
    "        if team_fg[away_team_id]['num_games'] > 1:\n",
    "            away_team_avg_fg = (team_fg[away_team_id]['fg'] - away_team_fg) / (team_fg[away_team_id]['num_games'] - 1)\n",
    "        else:\n",
    "            away_team_avg_fg = np.nan\n",
    "\n",
    "        games.loc[index, 'HOME_TEAM_FG_PCT_AVG'] = home_team_avg_fg\n",
    "        games.loc[index, 'AWAY_TEAM_FG_PCT_AVG'] = away_team_avg_fg"
   ]
  },
  {
   "cell_type": "code",
   "execution_count": 14,
   "id": "d97bfa52",
   "metadata": {},
   "outputs": [],
   "source": [
    "games.sort_values('GAME_DATE_EST', inplace=True)\n",
    "\n",
    "team_ft = {}\n",
    "current_season = 2004\n",
    "\n",
    "for index, row in games.iterrows():\n",
    "    if row['SEASON'] == current_season:\n",
    "        home_team_id = row['HOME_TEAM_ID']\n",
    "        away_team_id = row['VISITOR_TEAM_ID']\n",
    "        home_team_ft = row['FT_PCT_home']\n",
    "        away_team_ft = row['FT_PCT_away']\n",
    "\n",
    "        if home_team_id not in team_ft:\n",
    "            team_ft[home_team_id] = {'ft': 0, 'num_games': 0}\n",
    "\n",
    "        if away_team_id not in team_ft:\n",
    "            team_ft[away_team_id] = {'ft': 0, 'num_games': 0}\n",
    "\n",
    "        team_ft[home_team_id]['ft'] += home_team_ft\n",
    "        team_ft[away_team_id]['ft'] += away_team_ft\n",
    "        team_ft[home_team_id]['num_games'] += 1\n",
    "        team_ft[away_team_id]['num_games'] += 1\n",
    "\n",
    "        if team_ft[home_team_id]['num_games'] > 1:\n",
    "            home_team_avg_ft = (team_ft[home_team_id]['ft'] - home_team_ft) / (team_ft[home_team_id]['num_games'] - 1)\n",
    "        else:\n",
    "            home_team_avg_ft = np.nan\n",
    "\n",
    "        if team_ft[away_team_id]['num_games'] > 1:\n",
    "            away_team_avg_ft = (team_ft[away_team_id]['ft'] - away_team_ft) / (team_ft[away_team_id]['num_games'] - 1)\n",
    "        else:\n",
    "            away_team_avg_ft = np.nan\n",
    "\n",
    "        games.loc[index, 'HOME_TEAM_FT_PCT_AVG'] = home_team_avg_ft\n",
    "        games.loc[index, 'AWAY_TEAM_FT_PCT_AVG'] = away_team_avg_ft\n",
    "\n",
    "    else:\n",
    "        current_season = current_season + 1\n",
    "        team_ft = {}\n",
    "        home_team_id = row['HOME_TEAM_ID']\n",
    "        away_team_id = row['VISITOR_TEAM_ID']\n",
    "        home_team_ft = row['FT_PCT_home']\n",
    "        away_team_ft = row['FT_PCT_away']\n",
    "\n",
    "        if home_team_id not in team_ft:\n",
    "            team_ft[home_team_id] = {'ft': 0, 'num_games': 0}\n",
    "\n",
    "        if away_team_id not in team_ft:\n",
    "            team_ft[away_team_id] = {'ft': 0, 'num_games': 0}\n",
    "\n",
    "        team_ft[home_team_id]['ft'] += home_team_ft\n",
    "        team_ft[away_team_id]['ft'] += away_team_ft\n",
    "        team_ft[home_team_id]['num_games'] += 1\n",
    "        team_ft[away_team_id]['num_games'] += 1\n",
    "\n",
    "        if team_ft[home_team_id]['num_games'] > 1:\n",
    "            home_team_avg_ft = (team_ft[home_team_id]['ft'] - home_team_ft) / (team_ft[home_team_id]['num_games'] - 1)\n",
    "        else:\n",
    "            home_team_avg_ft = np.nan\n",
    "\n",
    "        if team_ft[away_team_id]['num_games'] > 1:\n",
    "            away_team_avg_ft = (team_ft[away_team_id]['ft'] - away_team_ft) / (team_ft[away_team_id]['num_games'] - 1)\n",
    "        else:\n",
    "            away_team_avg_ft = np.nan\n",
    "\n",
    "        games.loc[index, 'HOME_TEAM_FT_PCT_AVG'] = home_team_avg_ft\n",
    "        games.loc[index, 'AWAY_TEAM_FT_PCT_AVG'] = away_team_avg_ft"
   ]
  },
  {
   "cell_type": "code",
   "execution_count": 15,
   "id": "ea8e8e73",
   "metadata": {},
   "outputs": [],
   "source": [
    "games.sort_values('GAME_DATE_EST', inplace=True)\n",
    "\n",
    "team_fg3 = {}\n",
    "current_season = 2004\n",
    "\n",
    "for index, row in games.iterrows():\n",
    "    if row['SEASON'] == current_season:\n",
    "        home_team_id = row['HOME_TEAM_ID']\n",
    "        away_team_id = row['VISITOR_TEAM_ID']\n",
    "        home_team_fg3 = row['FG3_PCT_home']\n",
    "        away_team_fg3 = row['FG3_PCT_away']\n",
    "\n",
    "        if home_team_id not in team_fg3:\n",
    "            team_fg3[home_team_id] = {'fg3': 0, 'num_games': 0}\n",
    "\n",
    "        if away_team_id not in team_fg3:\n",
    "            team_fg3[away_team_id] = {'fg3': 0, 'num_games': 0}\n",
    "\n",
    "        team_fg3[home_team_id]['fg3'] += home_team_fg3\n",
    "        team_fg3[away_team_id]['fg3'] += away_team_fg3\n",
    "        team_fg3[home_team_id]['num_games'] += 1\n",
    "        team_fg3[away_team_id]['num_games'] += 1\n",
    "\n",
    "        if team_fg3[home_team_id]['num_games'] > 1:\n",
    "            home_team_avg_fg3 = (team_fg3[home_team_id]['fg3'] - home_team_fg3) / (team_fg3[home_team_id]['num_games'] - 1)\n",
    "        else:\n",
    "            home_team_avg_fg3 = np.nan\n",
    "\n",
    "        if team_fg3[away_team_id]['num_games'] > 1:\n",
    "            away_team_avg_fg3 = (team_fg3[away_team_id]['fg3'] - away_team_fg3) / (team_fg3[away_team_id]['num_games'] - 1)\n",
    "        else:\n",
    "            away_team_avg_fg3 = np.nan\n",
    "\n",
    "        games.loc[index, 'HOME_TEAM_FG3_PCT_AVG'] = home_team_avg_fg3\n",
    "        games.loc[index, 'AWAY_TEAM_FG3_PCT_AVG'] = away_team_avg_fg3\n",
    "\n",
    "    else:\n",
    "        current_season = current_season + 1\n",
    "        team_fg3 = {}\n",
    "        home_team_id = row['HOME_TEAM_ID']\n",
    "        away_team_id = row['VISITOR_TEAM_ID']\n",
    "        home_team_fg3 = row['FG3_PCT_home']\n",
    "        away_team_fg3 = row['FG3_PCT_away']\n",
    "\n",
    "        if home_team_id not in team_fg3:\n",
    "            team_fg3[home_team_id] = {'fg3': 0, 'num_games': 0}\n",
    "\n",
    "        if away_team_id not in team_fg3:\n",
    "            team_fg3[away_team_id] = {'fg3': 0, 'num_games': 0}\n",
    "\n",
    "        team_fg3[home_team_id]['fg3'] += home_team_fg3\n",
    "        team_fg3[away_team_id]['fg3'] += away_team_fg3\n",
    "        team_fg3[home_team_id]['num_games'] += 1\n",
    "        team_fg3[away_team_id]['num_games'] += 1\n",
    "\n",
    "        if team_fg3[home_team_id]['num_games'] > 1:\n",
    "            home_team_avg_fg3 = (team_fg3[home_team_id]['fg3'] - home_team_fg3) / (team_fg3[home_team_id]['num_games'] - 1)\n",
    "        else:\n",
    "            home_team_avg_fg3 = np.nan\n",
    "\n",
    "        if team_fg3[away_team_id]['num_games'] > 1:\n",
    "            away_team_avg_fg3 = (team_fg3[away_team_id]['fg3'] - away_team_fg3) / (team_fg3[away_team_id]['num_games'] - 1)\n",
    "        else:\n",
    "            away_team_avg_fg3 = np.nan\n",
    "\n",
    "        games.loc[index, 'HOME_TEAM_FG3_PCT_AVG'] = home_team_avg_fg3\n",
    "        games.loc[index, 'AWAY_TEAM_FG3_PCT_AVG'] = away_team_avg_fg3"
   ]
  },
  {
   "cell_type": "markdown",
   "id": "43f12132",
   "metadata": {},
   "source": [
    "We figured finding the difference between home and away statistics for each of the aggregated variables was the best way to represent them in a model and eliminate collinearity problems."
   ]
  },
  {
   "cell_type": "code",
   "execution_count": 16,
   "id": "815fbf7f",
   "metadata": {},
   "outputs": [],
   "source": [
    "# NOTE: All differences are based on HOME_VARIABLE - AWAY_VARIABLE = DIFF_VARIABLE\n",
    "\n",
    "games['DIFF_PTS_AVG'] = games['HOME_TEAM_PTS_AVG'] - games['AWAY_TEAM_PTS_AVG']\n",
    "games['DIFF_AST_AVG'] = games['HOME_TEAM_AST_AVG'] - games['AWAY_TEAM_AST_AVG']\n",
    "games['DIFF_REB_AVG'] = games['HOME_TEAM_REB_AVG'] - games['AWAY_TEAM_REB_AVG']\n",
    "games['DIFF_WIN_PCT'] = games['HOME_TEAM_WIN_PCT'] - games['AWAY_TEAM_WIN_PCT']\n",
    "games['DIFF_FG_PCT'] = games['HOME_TEAM_FG_PCT_AVG'] - games['AWAY_TEAM_FG_PCT_AVG']\n",
    "games['DIFF_FT_PCT'] = games['HOME_TEAM_FT_PCT_AVG'] - games['AWAY_TEAM_FT_PCT_AVG']\n",
    "games['DIFF_FG3_PCT'] = games['HOME_TEAM_FG3_PCT_AVG'] - games['AWAY_TEAM_FG3_PCT_AVG']"
   ]
  },
  {
   "cell_type": "markdown",
   "id": "143a6193",
   "metadata": {},
   "source": [
    "Season splits and creation of train and test data below"
   ]
  },
  {
   "cell_type": "code",
   "execution_count": 18,
   "id": "c50f905b",
   "metadata": {},
   "outputs": [],
   "source": [
    "#Seperating seasons and filtering to exclusively regular season\n",
    "#Manual .iloc calculations looking up the start and end of each season\n",
    "#test and train data sets exclude appx first 10 games of season for each team, calculation below\n",
    "#subtract (30/2)*10 = 150 iloc for appx 10 games\n",
    "games_2017 = games.iloc[5881:7111]\n",
    "train_2017 = games.iloc[5881:6961]\n",
    "\n",
    "games_2018 = games.iloc[4503:5733]\n",
    "train_2018 = games.iloc[4503:5583]\n",
    "\n",
    "games_2019 = games.iloc[3385:4356]\n",
    "train_2019 = games.iloc[3385:4206]\n",
    "\n",
    "games_2020 = games.iloc[2022:3131]\n",
    "\n",
    "games_2021 = games.iloc[635:1865]"
   ]
  },
  {
   "cell_type": "code",
   "execution_count": 19,
   "id": "f0a5bdfc",
   "metadata": {},
   "outputs": [],
   "source": [
    "#3 years of combined train data, two separate years of test data\n",
    "#For prediction, we only keep response HOME_TEAM_WINS, and aggregated stats\n",
    "train = pd.concat([train_2017, train_2018, train_2019]).iloc[:, 21:]\n",
    "train.to_csv('data/train.csv')\n",
    "test1 = games.iloc[2022:2981, 21:]\n",
    "test1.to_csv('data/test1.csv')\n",
    "test2 = games.iloc[635:1715, 21:]\n",
    "test2.to_csv('data/test2.csv')"
   ]
  },
  {
   "cell_type": "markdown",
   "id": "fbb11c9b",
   "metadata": {},
   "source": [
    "## Exploratory data analysis\n",
    "*By Connor Doolan and Rob Hickmott*"
   ]
  },
  {
   "cell_type": "markdown",
   "id": "d451e0a3",
   "metadata": {},
   "source": [
    "The following EDA checks for any multicollinearity issues we might have before we jump in to model development."
   ]
  },
  {
   "cell_type": "code",
   "execution_count": 23,
   "id": "e5b16b94",
   "metadata": {
    "scrolled": false
   },
   "outputs": [
    {
     "data": {
      "text/plain": [
       "<function matplotlib.pyplot.show(close=None, block=None)>"
      ]
     },
     "execution_count": 23,
     "metadata": {},
     "output_type": "execute_result"
    },
    {
     "data": {
      "image/png": "[encoded data removed]",
      "text/plain": [
       "<Figure size 432x288 with 2 Axes>"
      ]
     },
     "metadata": {
      "needs_background": "light"
     },
     "output_type": "display_data"
    }
   ],
   "source": [
    "import matplotlib.pyplot as plt\n",
    "import seaborn as sns\n",
    "import numpy as np\n",
    "sns.heatmap(games[['HOME_TEAM_WINS', 'DIFF_PTS_AVG', 'DIFF_AST_AVG', 'DIFF_REB_AVG', 'DIFF_WIN_PCT', 'DIFF_FG_PCT', 'DIFF_FT_PCT', 'DIFF_FG3_PCT']].corr(), annot=True, vmin=-1, vmax=1)\n",
    "plt.title('Correlation Coefficient Of Predictors')\n",
    "plt.show"
   ]
  },
  {
   "cell_type": "code",
   "execution_count": 24,
   "id": "9de3793b",
   "metadata": {},
   "outputs": [],
   "source": [
    "X = train[['DIFF_PTS_AVG', 'DIFF_AST_AVG', 'DIFF_REB_AVG', 'DIFF_WIN_PCT', 'DIFF_FG_PCT', 'DIFF_FT_PCT', 'DIFF_FG3_PCT']]"
   ]
  },
  {
   "cell_type": "code",
   "execution_count": 25,
   "id": "217d71b5",
   "metadata": {},
   "outputs": [
    {
     "name": "stdout",
     "output_type": "stream",
     "text": [
      "        feature       VIF\n",
      "5   DIFF_FG_PCT  2.975722\n",
      "1  DIFF_PTS_AVG  2.548339\n",
      "4  DIFF_WIN_PCT  2.118558\n",
      "2  DIFF_AST_AVG  1.782973\n",
      "3  DIFF_REB_AVG  1.658305\n",
      "7  DIFF_FG3_PCT  1.558911\n",
      "6   DIFF_FT_PCT  1.187217\n",
      "0         const  1.001055\n"
     ]
    }
   ],
   "source": [
    "from statsmodels.stats.outliers_influence import variance_inflation_factor\n",
    "from statsmodels.tools.tools import add_constant\n",
    "X = add_constant(X)\n",
    "vif_data = pd.DataFrame()\n",
    "vif_data[\"feature\"] = X.columns\n",
    "\n",
    "for i in range(len(X.columns)):\n",
    "    vif_data.loc[i,'VIF'] = variance_inflation_factor(X.values, i)\n",
    "\n",
    "print(vif_data.sort_values('VIF', ascending=False))"
   ]
  },
  {
   "cell_type": "code",
   "execution_count": 26,
   "id": "2fbc922e",
   "metadata": {},
   "outputs": [
    {
     "data": {
      "text/html": [
       "<div>\n",
       "<style scoped>\n",
       "    .dataframe tbody tr th:only-of-type {\n",
       "        vertical-align: middle;\n",
       "    }\n",
       "\n",
       "    .dataframe tbody tr th {\n",
       "        vertical-align: top;\n",
       "    }\n",
       "\n",
       "    .dataframe thead th {\n",
       "        text-align: right;\n",
       "    }\n",
       "</style>\n",
       "<table border=\"1\" class=\"dataframe\">\n",
       "  <thead>\n",
       "    <tr style=\"text-align: right;\">\n",
       "      <th></th>\n",
       "      <th>0</th>\n",
       "      <th>1</th>\n",
       "      <th>2</th>\n",
       "      <th>3</th>\n",
       "      <th>4</th>\n",
       "      <th>5</th>\n",
       "      <th>6</th>\n",
       "      <th>7</th>\n",
       "    </tr>\n",
       "  </thead>\n",
       "  <tbody>\n",
       "    <tr>\n",
       "      <th>feature</th>\n",
       "      <td>const</td>\n",
       "      <td>DIFF_PTS_AVG</td>\n",
       "      <td>DIFF_AST_AVG</td>\n",
       "      <td>DIFF_REB_AVG</td>\n",
       "      <td>DIFF_WIN_PCT</td>\n",
       "      <td>DIFF_FG_PCT</td>\n",
       "      <td>DIFF_FT_PCT</td>\n",
       "      <td>DIFF_FG3_PCT</td>\n",
       "    </tr>\n",
       "    <tr>\n",
       "      <th>VIF</th>\n",
       "      <td>1.001055</td>\n",
       "      <td>2.548339</td>\n",
       "      <td>1.782973</td>\n",
       "      <td>1.658305</td>\n",
       "      <td>2.118558</td>\n",
       "      <td>2.975722</td>\n",
       "      <td>1.187217</td>\n",
       "      <td>1.558911</td>\n",
       "    </tr>\n",
       "  </tbody>\n",
       "</table>\n",
       "</div>"
      ],
      "text/plain": [
       "                0             1             2             3             4  \\\n",
       "feature     const  DIFF_PTS_AVG  DIFF_AST_AVG  DIFF_REB_AVG  DIFF_WIN_PCT   \n",
       "VIF      1.001055      2.548339      1.782973      1.658305      2.118558   \n",
       "\n",
       "                   5            6             7  \n",
       "feature  DIFF_FG_PCT  DIFF_FT_PCT  DIFF_FG3_PCT  \n",
       "VIF         2.975722     1.187217      1.558911  "
      ]
     },
     "execution_count": 26,
     "metadata": {},
     "output_type": "execute_result"
    }
   ],
   "source": [
    "vif_data.T"
   ]
  },
  {
   "cell_type": "markdown",
   "id": "0b75417a",
   "metadata": {},
   "source": [
    "We are basing the success of our model based off of prediction accuracy. The response variable whether or not the home team wins. Therefore, our baseline model is as follows."
   ]
  },
  {
   "cell_type": "code",
   "execution_count": 27,
   "id": "741840b0",
   "metadata": {},
   "outputs": [
    {
     "data": {
      "text/plain": [
       "1    14845\n",
       "0    10421\n",
       "Name: HOME_TEAM_WINS, dtype: int64"
      ]
     },
     "execution_count": 27,
     "metadata": {},
     "output_type": "execute_result"
    }
   ],
   "source": [
    "games['HOME_TEAM_WINS'].value_counts()"
   ]
  },
  {
   "cell_type": "code",
   "execution_count": 28,
   "id": "3ce50021",
   "metadata": {},
   "outputs": [
    {
     "data": {
      "text/plain": [
       "0.5875484841288688"
      ]
     },
     "execution_count": 28,
     "metadata": {},
     "output_type": "execute_result"
    }
   ],
   "source": [
    "14845/(14845+10421)"
   ]
  },
  {
   "cell_type": "markdown",
   "id": "28b6482e",
   "metadata": {},
   "source": [
    "The baseline model shows that ~58.75% of the time, the home team wins. Our goal is to significantly improve on this naive prediction accuracy."
   ]
  },
  {
   "cell_type": "markdown",
   "id": "acab331a",
   "metadata": {},
   "source": [
    "## Developing the model"
   ]
  },
  {
   "cell_type": "markdown",
   "id": "ae5ec4c9",
   "metadata": {},
   "source": [
    "Put code with comments. The comments should explain the code such that it can be easily understood. You may put text *(in a markdown cell)* before a large chunk of code to explain the overall purpose of the code, if it is not intuitive. **Put the name of the person / persons who contributed to each code chunk / set of code chunks.**"
   ]
  },
  {
   "cell_type": "code",
   "execution_count": 4,
   "id": "ba1c6103",
   "metadata": {},
   "outputs": [
    {
     "ename": "FileNotFoundError",
     "evalue": "[Errno 2] No such file or directory: 'data/test1.csv'",
     "output_type": "error",
     "traceback": [
      "\u001b[0;31m---------------------------------------------------------------------------\u001b[0m",
      "\u001b[0;31mFileNotFoundError\u001b[0m                         Traceback (most recent call last)",
      "\u001b[1;32m/Users/yui/Documents/GitHub/DS_303_2_Think_Tank_GroupProject/.ipynb_checkpoints/Project_Code-checkpoint.ipynb Cell 40\u001b[0m in \u001b[0;36m2\n\u001b[1;32m      <a href='vscode-notebook-cell:/Users/yui/Documents/GitHub/DS_303_2_Think_Tank_GroupProject/.ipynb_checkpoints/Project_Code-checkpoint.ipynb#X54sZmlsZQ%3D%3D?line=0'>1</a>\u001b[0m train \u001b[39m=\u001b[39m pd\u001b[39m.\u001b[39mread_csv(\u001b[39m'\u001b[39m\u001b[39m/Users/yui/Documents/GitHub/DS_303_2_Think_Tank_GroupProject/data/train.csv\u001b[39m\u001b[39m'\u001b[39m)\n\u001b[0;32m----> <a href='vscode-notebook-cell:/Users/yui/Documents/GitHub/DS_303_2_Think_Tank_GroupProject/.ipynb_checkpoints/Project_Code-checkpoint.ipynb#X54sZmlsZQ%3D%3D?line=1'>2</a>\u001b[0m test1 \u001b[39m=\u001b[39m pd\u001b[39m.\u001b[39;49mread_csv(\u001b[39m'\u001b[39;49m\u001b[39mdata/test1.csv\u001b[39;49m\u001b[39m'\u001b[39;49m)\n\u001b[1;32m      <a href='vscode-notebook-cell:/Users/yui/Documents/GitHub/DS_303_2_Think_Tank_GroupProject/.ipynb_checkpoints/Project_Code-checkpoint.ipynb#X54sZmlsZQ%3D%3D?line=2'>3</a>\u001b[0m test2 \u001b[39m=\u001b[39m pd\u001b[39m.\u001b[39mread_csv(\u001b[39m'\u001b[39m\u001b[39mdata/test2.csv\u001b[39m\u001b[39m'\u001b[39m)\n",
      "File \u001b[0;32m~/Library/Python/3.8/lib/python/site-packages/pandas/util/_decorators.py:211\u001b[0m, in \u001b[0;36mdeprecate_kwarg.<locals>._deprecate_kwarg.<locals>.wrapper\u001b[0;34m(*args, **kwargs)\u001b[0m\n\u001b[1;32m    209\u001b[0m     \u001b[39melse\u001b[39;00m:\n\u001b[1;32m    210\u001b[0m         kwargs[new_arg_name] \u001b[39m=\u001b[39m new_arg_value\n\u001b[0;32m--> 211\u001b[0m \u001b[39mreturn\u001b[39;00m func(\u001b[39m*\u001b[39;49margs, \u001b[39m*\u001b[39;49m\u001b[39m*\u001b[39;49mkwargs)\n",
      "File \u001b[0;32m~/Library/Python/3.8/lib/python/site-packages/pandas/util/_decorators.py:317\u001b[0m, in \u001b[0;36mdeprecate_nonkeyword_arguments.<locals>.decorate.<locals>.wrapper\u001b[0;34m(*args, **kwargs)\u001b[0m\n\u001b[1;32m    311\u001b[0m \u001b[39mif\u001b[39;00m \u001b[39mlen\u001b[39m(args) \u001b[39m>\u001b[39m num_allow_args:\n\u001b[1;32m    312\u001b[0m     warnings\u001b[39m.\u001b[39mwarn(\n\u001b[1;32m    313\u001b[0m         msg\u001b[39m.\u001b[39mformat(arguments\u001b[39m=\u001b[39marguments),\n\u001b[1;32m    314\u001b[0m         \u001b[39mFutureWarning\u001b[39;00m,\n\u001b[1;32m    315\u001b[0m         stacklevel\u001b[39m=\u001b[39mfind_stack_level(inspect\u001b[39m.\u001b[39mcurrentframe()),\n\u001b[1;32m    316\u001b[0m     )\n\u001b[0;32m--> 317\u001b[0m \u001b[39mreturn\u001b[39;00m func(\u001b[39m*\u001b[39;49margs, \u001b[39m*\u001b[39;49m\u001b[39m*\u001b[39;49mkwargs)\n",
      "File \u001b[0;32m~/Library/Python/3.8/lib/python/site-packages/pandas/io/parsers/readers.py:950\u001b[0m, in \u001b[0;36mread_csv\u001b[0;34m(filepath_or_buffer, sep, delimiter, header, names, index_col, usecols, squeeze, prefix, mangle_dupe_cols, dtype, engine, converters, true_values, false_values, skipinitialspace, skiprows, skipfooter, nrows, na_values, keep_default_na, na_filter, verbose, skip_blank_lines, parse_dates, infer_datetime_format, keep_date_col, date_parser, dayfirst, cache_dates, iterator, chunksize, compression, thousands, decimal, lineterminator, quotechar, quoting, doublequote, escapechar, comment, encoding, encoding_errors, dialect, error_bad_lines, warn_bad_lines, on_bad_lines, delim_whitespace, low_memory, memory_map, float_precision, storage_options)\u001b[0m\n\u001b[1;32m    935\u001b[0m kwds_defaults \u001b[39m=\u001b[39m _refine_defaults_read(\n\u001b[1;32m    936\u001b[0m     dialect,\n\u001b[1;32m    937\u001b[0m     delimiter,\n\u001b[0;32m   (...)\u001b[0m\n\u001b[1;32m    946\u001b[0m     defaults\u001b[39m=\u001b[39m{\u001b[39m\"\u001b[39m\u001b[39mdelimiter\u001b[39m\u001b[39m\"\u001b[39m: \u001b[39m\"\u001b[39m\u001b[39m,\u001b[39m\u001b[39m\"\u001b[39m},\n\u001b[1;32m    947\u001b[0m )\n\u001b[1;32m    948\u001b[0m kwds\u001b[39m.\u001b[39mupdate(kwds_defaults)\n\u001b[0;32m--> 950\u001b[0m \u001b[39mreturn\u001b[39;00m _read(filepath_or_buffer, kwds)\n",
      "File \u001b[0;32m~/Library/Python/3.8/lib/python/site-packages/pandas/io/parsers/readers.py:605\u001b[0m, in \u001b[0;36m_read\u001b[0;34m(filepath_or_buffer, kwds)\u001b[0m\n\u001b[1;32m    602\u001b[0m _validate_names(kwds\u001b[39m.\u001b[39mget(\u001b[39m\"\u001b[39m\u001b[39mnames\u001b[39m\u001b[39m\"\u001b[39m, \u001b[39mNone\u001b[39;00m))\n\u001b[1;32m    604\u001b[0m \u001b[39m# Create the parser.\u001b[39;00m\n\u001b[0;32m--> 605\u001b[0m parser \u001b[39m=\u001b[39m TextFileReader(filepath_or_buffer, \u001b[39m*\u001b[39;49m\u001b[39m*\u001b[39;49mkwds)\n\u001b[1;32m    607\u001b[0m \u001b[39mif\u001b[39;00m chunksize \u001b[39mor\u001b[39;00m iterator:\n\u001b[1;32m    608\u001b[0m     \u001b[39mreturn\u001b[39;00m parser\n",
      "File \u001b[0;32m~/Library/Python/3.8/lib/python/site-packages/pandas/io/parsers/readers.py:1442\u001b[0m, in \u001b[0;36mTextFileReader.__init__\u001b[0;34m(self, f, engine, **kwds)\u001b[0m\n\u001b[1;32m   1439\u001b[0m     \u001b[39mself\u001b[39m\u001b[39m.\u001b[39moptions[\u001b[39m\"\u001b[39m\u001b[39mhas_index_names\u001b[39m\u001b[39m\"\u001b[39m] \u001b[39m=\u001b[39m kwds[\u001b[39m\"\u001b[39m\u001b[39mhas_index_names\u001b[39m\u001b[39m\"\u001b[39m]\n\u001b[1;32m   1441\u001b[0m \u001b[39mself\u001b[39m\u001b[39m.\u001b[39mhandles: IOHandles \u001b[39m|\u001b[39m \u001b[39mNone\u001b[39;00m \u001b[39m=\u001b[39m \u001b[39mNone\u001b[39;00m\n\u001b[0;32m-> 1442\u001b[0m \u001b[39mself\u001b[39m\u001b[39m.\u001b[39m_engine \u001b[39m=\u001b[39m \u001b[39mself\u001b[39;49m\u001b[39m.\u001b[39;49m_make_engine(f, \u001b[39mself\u001b[39;49m\u001b[39m.\u001b[39;49mengine)\n",
      "File \u001b[0;32m~/Library/Python/3.8/lib/python/site-packages/pandas/io/parsers/readers.py:1729\u001b[0m, in \u001b[0;36mTextFileReader._make_engine\u001b[0;34m(self, f, engine)\u001b[0m\n\u001b[1;32m   1727\u001b[0m     is_text \u001b[39m=\u001b[39m \u001b[39mFalse\u001b[39;00m\n\u001b[1;32m   1728\u001b[0m     mode \u001b[39m=\u001b[39m \u001b[39m\"\u001b[39m\u001b[39mrb\u001b[39m\u001b[39m\"\u001b[39m\n\u001b[0;32m-> 1729\u001b[0m \u001b[39mself\u001b[39m\u001b[39m.\u001b[39mhandles \u001b[39m=\u001b[39m get_handle(\n\u001b[1;32m   1730\u001b[0m     f,\n\u001b[1;32m   1731\u001b[0m     mode,\n\u001b[1;32m   1732\u001b[0m     encoding\u001b[39m=\u001b[39;49m\u001b[39mself\u001b[39;49m\u001b[39m.\u001b[39;49moptions\u001b[39m.\u001b[39;49mget(\u001b[39m\"\u001b[39;49m\u001b[39mencoding\u001b[39;49m\u001b[39m\"\u001b[39;49m, \u001b[39mNone\u001b[39;49;00m),\n\u001b[1;32m   1733\u001b[0m     compression\u001b[39m=\u001b[39;49m\u001b[39mself\u001b[39;49m\u001b[39m.\u001b[39;49moptions\u001b[39m.\u001b[39;49mget(\u001b[39m\"\u001b[39;49m\u001b[39mcompression\u001b[39;49m\u001b[39m\"\u001b[39;49m, \u001b[39mNone\u001b[39;49;00m),\n\u001b[1;32m   1734\u001b[0m     memory_map\u001b[39m=\u001b[39;49m\u001b[39mself\u001b[39;49m\u001b[39m.\u001b[39;49moptions\u001b[39m.\u001b[39;49mget(\u001b[39m\"\u001b[39;49m\u001b[39mmemory_map\u001b[39;49m\u001b[39m\"\u001b[39;49m, \u001b[39mFalse\u001b[39;49;00m),\n\u001b[1;32m   1735\u001b[0m     is_text\u001b[39m=\u001b[39;49mis_text,\n\u001b[1;32m   1736\u001b[0m     errors\u001b[39m=\u001b[39;49m\u001b[39mself\u001b[39;49m\u001b[39m.\u001b[39;49moptions\u001b[39m.\u001b[39;49mget(\u001b[39m\"\u001b[39;49m\u001b[39mencoding_errors\u001b[39;49m\u001b[39m\"\u001b[39;49m, \u001b[39m\"\u001b[39;49m\u001b[39mstrict\u001b[39;49m\u001b[39m\"\u001b[39;49m),\n\u001b[1;32m   1737\u001b[0m     storage_options\u001b[39m=\u001b[39;49m\u001b[39mself\u001b[39;49m\u001b[39m.\u001b[39;49moptions\u001b[39m.\u001b[39;49mget(\u001b[39m\"\u001b[39;49m\u001b[39mstorage_options\u001b[39;49m\u001b[39m\"\u001b[39;49m, \u001b[39mNone\u001b[39;49;00m),\n\u001b[1;32m   1738\u001b[0m )\n\u001b[1;32m   1739\u001b[0m \u001b[39massert\u001b[39;00m \u001b[39mself\u001b[39m\u001b[39m.\u001b[39mhandles \u001b[39mis\u001b[39;00m \u001b[39mnot\u001b[39;00m \u001b[39mNone\u001b[39;00m\n\u001b[1;32m   1740\u001b[0m f \u001b[39m=\u001b[39m \u001b[39mself\u001b[39m\u001b[39m.\u001b[39mhandles\u001b[39m.\u001b[39mhandle\n",
      "File \u001b[0;32m~/Library/Python/3.8/lib/python/site-packages/pandas/io/common.py:857\u001b[0m, in \u001b[0;36mget_handle\u001b[0;34m(path_or_buf, mode, encoding, compression, memory_map, is_text, errors, storage_options)\u001b[0m\n\u001b[1;32m    852\u001b[0m \u001b[39melif\u001b[39;00m \u001b[39misinstance\u001b[39m(handle, \u001b[39mstr\u001b[39m):\n\u001b[1;32m    853\u001b[0m     \u001b[39m# Check whether the filename is to be opened in binary mode.\u001b[39;00m\n\u001b[1;32m    854\u001b[0m     \u001b[39m# Binary mode does not support 'encoding' and 'newline'.\u001b[39;00m\n\u001b[1;32m    855\u001b[0m     \u001b[39mif\u001b[39;00m ioargs\u001b[39m.\u001b[39mencoding \u001b[39mand\u001b[39;00m \u001b[39m\"\u001b[39m\u001b[39mb\u001b[39m\u001b[39m\"\u001b[39m \u001b[39mnot\u001b[39;00m \u001b[39min\u001b[39;00m ioargs\u001b[39m.\u001b[39mmode:\n\u001b[1;32m    856\u001b[0m         \u001b[39m# Encoding\u001b[39;00m\n\u001b[0;32m--> 857\u001b[0m         handle \u001b[39m=\u001b[39m \u001b[39mopen\u001b[39;49m(\n\u001b[1;32m    858\u001b[0m             handle,\n\u001b[1;32m    859\u001b[0m             ioargs\u001b[39m.\u001b[39;49mmode,\n\u001b[1;32m    860\u001b[0m             encoding\u001b[39m=\u001b[39;49mioargs\u001b[39m.\u001b[39;49mencoding,\n\u001b[1;32m    861\u001b[0m             errors\u001b[39m=\u001b[39;49merrors,\n\u001b[1;32m    862\u001b[0m             newline\u001b[39m=\u001b[39;49m\u001b[39m\"\u001b[39;49m\u001b[39m\"\u001b[39;49m,\n\u001b[1;32m    863\u001b[0m         )\n\u001b[1;32m    864\u001b[0m     \u001b[39melse\u001b[39;00m:\n\u001b[1;32m    865\u001b[0m         \u001b[39m# Binary mode\u001b[39;00m\n\u001b[1;32m    866\u001b[0m         handle \u001b[39m=\u001b[39m \u001b[39mopen\u001b[39m(handle, ioargs\u001b[39m.\u001b[39mmode)\n",
      "\u001b[0;31mFileNotFoundError\u001b[0m: [Errno 2] No such file or directory: 'data/test1.csv'"
     ]
    }
   ],
   "source": [
    "#Yui Ginther\n",
    "\n",
    "train = pd.read_csv('data/train.csv')\n",
    "test1 = pd.read_csv('data/test1.csv')\n",
    "test2 = pd.read_csv('data/test2.csv')\n",
    "\n",
    "# cleaning test1 data\n",
    "test1 = test1.dropna()\n",
    "\n",
    "#splitting data to predictors and outcomes\n",
    "y = train.HOME_TEAM_WINS\n",
    "X = train.drop(\"HOME_TEAM_WINS\", axis = 1)\n",
    "\n",
    "y_test = test1.HOME_TEAM_WINS\n",
    "X_test = test1.drop(\"HOME_TEAM_WINS\", axis = 1)"
   ]
  },
  {
   "attachments": {},
   "cell_type": "markdown",
   "id": "d3d952f8",
   "metadata": {},
   "source": [
    "#### Base Model (all predictors) - Priya"
   ]
  },
  {
   "cell_type": "code",
   "execution_count": null,
   "id": "3f4df0ed",
   "metadata": {},
   "outputs": [],
   "source": [
    "import statsmodels.formula.api as smf\n",
    "model = smf.logit(\"HOME_TEAM_WINS ~ DIFF_WIN_PCT + DIFF_FG_PCT + DIFF_FG3_PCT + DIFF_PTS_AVG + DIFF_AST_AVG + DIFF_REB_AVG + DIFF_FT_PCT\", data=train).fit()\n",
    "def confusion_matrix_data(data,actual_values,model,cutoff=0.5):\n",
    "#Predict the values using the Logit model\n",
    "    pred_values = model.predict(train)\n",
    "# Specify the bins\n",
    "    bins=np.array([0,cutoff,1])\n",
    "#Confusion matrix\n",
    "    cm = np.histogram2d(actual_values, pred_values, bins=bins)[0]\n",
    "    cm_df = pd.DataFrame(cm)\n",
    "    cm_df.columns = ['Predicted 0','Predicted 1']\n",
    "    cm_df = cm_df.rename(index={0: 'Actual 0',1:'Actual 1'})\n",
    "# Calculate the accuracy\n",
    "    accuracy = (cm[0,0]+cm[1,1])/cm.sum()\n",
    "    fnr = (cm[1,0])/(cm[1,0]+cm[1,1])\n",
    "    precision = (cm[1,1])/(cm[0,1]+cm[1,1])\n",
    "    fpr = (cm[0,1])/(cm[0,0]+cm[0,1])\n",
    "    tpr = (cm[1,1])/(cm[1,0]+cm[1,1])\n",
    "    fpr_roc, tpr_roc, auc_thresholds = roc_curve(actual_values, pred_values)\n",
    "    auc_value = (auc(fpr_roc, tpr_roc))# AUC of ROC\n",
    "    sns.heatmap(cm_df, annot=True, cmap='Blues', fmt='g')\n",
    "    plt.ylabel(\"Actual Values\")\n",
    "    plt.xlabel(\"Predicted Values\")\n",
    "    print(\"Classification accuracy = {:.1%}\".format(accuracy))\n",
    "    print(\"Precision = {:.1%}\".format(precision))\n",
    "    print(\"TPR or Recall = {:.1%}\".format(tpr))\n",
    "    print(\"FNR = {:.1%}\".format(fnr))\n",
    "    print(\"FPR = {:.1%}\".format(fpr))\n",
    "    print(\"ROC-AUC = {:.1%}\".format(auc_value))\n",
    "confusion_matrix_data(train,train.HOME_TEAM_WINS,model,cutoff=0.5)"
   ]
  },
  {
   "attachments": {},
   "cell_type": "markdown",
   "id": "4014a235",
   "metadata": {},
   "source": [
    "#### Filtering features by correlation -Priya"
   ]
  },
  {
   "cell_type": "code",
   "execution_count": null,
   "id": "6f134ebf",
   "metadata": {},
   "outputs": [],
   "source": [
    "# for hometeamwins in win percentage \n",
    "np.abs(train.corrwith(train.HOME_TEAM_WINS)).sort_values(ascending = False)\n",
    "\n",
    "model2 = smf.logit(\"HOME_TEAM_WINS ~ DIFF_WIN_PCT + DIFF_FG_PCT + DIFF_FG3_PCT + DIFF_AST_AVG\", data=train).fit()\n",
    "confusion_matrix_data(train,train.HOME_TEAM_WINS,model2,cutoff=0.5)"
   ]
  },
  {
   "cell_type": "code",
   "execution_count": null,
   "id": "3f234403",
   "metadata": {},
   "outputs": [],
   "source": [
    "# Yui Ginther\n",
    "# model and prediction on test data after\n",
    "# filtering features with correlation \n",
    "from sklearn.linear_model import LogisticRegression\n",
    "sklearn_model = LogisticRegression( max_iter = 1000)\n",
    "selected_features_1 = ['DIFF_WIN_PCT', 'DIFF_FG_PCT', 'DIFF_FG3_PCT', 'DIFF_AST_AVG']\n",
    "sklearn_model.fit(X[selected_features_1], y)\n",
    "\n",
    "y_pred_test = sklearn_model.predict(test1[selected_features_1])\n",
    "print('Accuracy of logistic regression on test set : {:.4f}'.format(sklearn_model.score(X_test[selected_features_1], y_test)))"
   ]
  },
  {
   "cell_type": "code",
   "execution_count": null,
   "id": "7f034715",
   "metadata": {},
   "outputs": [],
   "source": [
    "# ROC Curve for Model after filtering (Priya)\n",
    "from sklearn.metrics import roc_curve, auc\n",
    "y=train.HOME_TEAM_WINS\n",
    "ypred = model2.predict(train)\n",
    "fpr, tpr, auc_thresholds = roc_curve(y, ypred)\n",
    "print(auc(fpr, tpr))# AUC of ROC\n",
    "def plot_roc_curve(fpr, tpr, label=None):\n",
    "    plt.figure(figsize=(8,8))\n",
    "    plt.title('ROC Curve')\n",
    "    plt.plot(fpr, tpr, linewidth=2, label=label)\n",
    "    plt.plot([0, 1], [0, 1], 'k--')\n",
    "    plt.axis([-0.005, 1, 0, 1.005])\n",
    "    plt.xticks(np.arange(0,1, 0.05), rotation=90)\n",
    "    plt.xlabel(\"False Positive Rate\")\n",
    "    plt.ylabel(\"True Positive Rate (Recall)\")\n",
    "\n",
    "fpr, tpr, auc_thresholds = roc_curve(y, ypred)\n",
    "plot_roc_curve(fpr, tpr)\n",
    "print(auc)"
   ]
  },
  {
   "attachments": {},
   "cell_type": "markdown",
   "id": "ae13e370",
   "metadata": {},
   "source": [
    "#### Stepwise Forward Feature Seleciton (Priya and Yui)"
   ]
  },
  {
   "cell_type": "code",
   "execution_count": null,
   "id": "e2a5beb6",
   "metadata": {},
   "outputs": [],
   "source": [
    "import time\n",
    "import itertools\n",
    "import statsmodels.formula.api as sm\n",
    "#Function to develop a model based on all predictors in predictor_subset\n",
    "def processSubset(predictor_subset):\n",
    "    # Fit model on feature_set and calculate R-squared\n",
    "    model = sm.logit('HOME_TEAM_WINS~' + '+'.join(predictor_subset),data = train).fit()\n",
    "    y = train.HOME_TEAM_WINS\n",
    "    ypred = model.predict(train)\n",
    "    fpr, tpr, auc_thresholds = roc_curve(y, ypred)\n",
    "    auc_roc = auc(fpr,tpr)\n",
    "    return {\"model\":model, \"auc_roc\":auc_roc}\n",
    "#Function to find the best predictor out of p-k predictors and add it to the model containing the k predictors\n",
    "def forward(predictors):\n",
    "\n",
    "    # Pull out predictors we still need to process\n",
    "    remaining_predictors = [p for p in X.columns if p not in predictors]\n",
    "    \n",
    "    tic = time.time()\n",
    "    \n",
    "    results = []\n",
    "    \n",
    "    for p in remaining_predictors:\n",
    "        results.append(processSubset(predictors+[p]))\n",
    "    \n",
    "    # Wrap everything up in a nice dataframe\n",
    "    models = pd.DataFrame(results)\n",
    "    \n",
    "    # Choose the model with the highest RSS\n",
    "    best_model = models.loc[models['auc_roc'].argmax()]\n",
    "    \n",
    "    toc = time.time()\n",
    "    print(\"Processed \", models.shape[0], \"models on\", len(predictors)+1, \"predictors in\", (toc-tic), \"seconds.\")\n",
    "    \n",
    "    # Return the best model, along with some other useful information about the model\n",
    "    return best_model\n",
    "def forward_selection():\n",
    "    models_best = pd.DataFrame(columns=[\"auc_roc\", \"model\"])\n",
    "\n",
    "    tic = time.time()\n",
    "    predictors = []\n",
    "\n",
    "    for i in range(1,len(X.columns)+1):    \n",
    "        models_best.loc[i] = forward(predictors)\n",
    "        predictors = list(models_best.loc[i][\"model\"].params.index[1:])\n",
    "\n",
    "    toc = time.time()\n",
    "    print(\"Total elapsed time:\", (toc-tic), \"seconds.\")\n",
    "    return models_best\n",
    "models_best = forward_selection()"
   ]
  },
  {
   "cell_type": "code",
   "execution_count": null,
   "id": "f13c603c",
   "metadata": {},
   "outputs": [],
   "source": [
    "## Plotting AIC and BIC of models to choose # of features"
   ]
  },
  {
   "cell_type": "code",
   "execution_count": null,
   "id": "95f2dd19",
   "metadata": {},
   "outputs": [],
   "source": [
    "def best_sub_plots():\n",
    "    plt.figure(figsize=(20,10))\n",
    "    plt.rcParams.update({'font.size': 18, 'lines.markersize': 10})\n",
    "\n",
    "    # Set up a 2x2 grid so we can look at 4 plots at once\n",
    "    plt.subplot(2, 2, 1)\n",
    "\n",
    "    # We will now plot a red dot to indicate the model with the largest adjusted R^2 statistic.\n",
    "    # The argmax() function can be used to identify the location of the maximum point of a vector\n",
    "    plt.plot(models_best[\"auc_roc\"])\n",
    "    plt.xlabel('# Predictors')\n",
    "    plt.ylabel('auc_roc')\n",
    "\n",
    "    # We will now plot a red dot to indicate the model with the largest adjusted R^2 statistic.\n",
    "    # The argmax() function can be used to identify the location of the maximum point of a vector\n",
    "\n",
    "\n",
    "    # We'll do the same for AIC and BIC, this time looking for the models with the SMALLEST statistic\n",
    "    aic = models_best.apply(lambda row: row[1].aic, axis=1)\n",
    "\n",
    "    plt.subplot(2, 2, 3)\n",
    "    plt.plot(aic)\n",
    "    plt.plot(1+aic.argmin(), aic.min(), \"or\")\n",
    "    plt.xlabel('# Predictors')\n",
    "    plt.ylabel('AIC')\n",
    "\n",
    "    bic = models_best.apply(lambda row: row[1].bic, axis=1)\n",
    "\n",
    "    plt.subplot(2, 2, 4)\n",
    "    plt.plot(bic)\n",
    "    plt.plot(1+bic.argmin(), bic.min(), \"or\")\n",
    "    plt.xlabel('# Predictors')\n",
    "    plt.ylabel('BIC')\n",
    "best_sub_plots()"
   ]
  },
  {
   "attachments": {},
   "cell_type": "markdown",
   "id": "22f79880",
   "metadata": {},
   "source": [
    "With lowest AIC in model with 4 predictors, we chose model with the following features:\n",
    "\n",
    "DIFF_WIN_PCT\n",
    "\n",
    "HOME_TEAM_FG_PCT_AVG\n",
    "\n",
    "DIFF_REB_AVG\n",
    "\n",
    "DIFF_PTS_AVG"
   ]
  },
  {
   "cell_type": "code",
   "execution_count": null,
   "id": "482f018f",
   "metadata": {},
   "outputs": [],
   "source": [
    "best_subset_model = models_best.loc[4,'model']\n",
    "models_best.loc[4,'model'].summary()\n",
    "#confusion matrix on train data\n",
    "confusion_matrix_data(train,train.HOME_TEAM_WINS,best_subset_model,cutoff=0.5)\n"
   ]
  },
  {
   "cell_type": "code",
   "execution_count": null,
   "id": "2adeba5a",
   "metadata": {},
   "outputs": [],
   "source": [
    "#Yui Ginther\n",
    "#Model after stepwise forward feature selection\n",
    "# predict on test\n",
    "selected_features_1 = ['DIFF_WIN_PCT', 'HOME_TEAM_FG_PCT_AVG', 'DIFF_REB_AVG', 'DIFF_PTS_AVG']\n",
    "sklearn_model.fit(X[selected_features_1], y)\n",
    "y_pred_test = sklearn_model.predict(test1[selected_features_1])\n",
    "print('Accuracy of logistic regression on test set : {:.4f}'.format(sklearn_model.score(X_test[selected_features_1], y_test)))"
   ]
  },
  {
   "attachments": {},
   "cell_type": "markdown",
   "id": "05203826",
   "metadata": {},
   "source": [
    "#### Investigating Feature interactions (Priya)"
   ]
  },
  {
   "cell_type": "code",
   "execution_count": null,
   "id": "f9465f85",
   "metadata": {},
   "outputs": [],
   "source": [
    "model3 = smf.logit(\"HOME_TEAM_WINS ~ DIFF_WIN_PCT * DIFF_FG_PCT * DIFF_FG3_PCT * DIFF_AST_AVG\", data=train).fit()\n",
    "# Confusion Matrix for Model With All Interactions for \n",
    "# Top 4 Predictors for Train Data\n",
    "confusion_matrix_data(train,train.HOME_TEAM_WINS,model3,cutoff=0.5)\n"
   ]
  },
  {
   "attachments": {},
   "cell_type": "markdown",
   "id": "e4c5fcca",
   "metadata": {},
   "source": [
    "Interactions among the top 4 features did not yield a significantly higher classication accuracy"
   ]
  },
  {
   "attachments": {},
   "cell_type": "markdown",
   "id": "50d4fd7c",
   "metadata": {},
   "source": [
    "#### Investigating Feature Transformation (Yui Ginther)"
   ]
  },
  {
   "cell_type": "code",
   "execution_count": null,
   "id": "695a8acd",
   "metadata": {},
   "outputs": [],
   "source": [
    "def transform(df):\n",
    "    DIFF_WIN_PCT = pd.qcut(df['DIFF_WIN_PCT'], q = 10, retbins= True)\n",
    "    df['DIFF_WIN_PCT'] = DIFF_WIN_PCT[0]\n",
    "    return df\n",
    "train_copy = train.copy()\n",
    "transform(train_copy)\n",
    "\n",
    "plt.figure(figsize=(6,3))\n",
    "plot = train_copy[[\"DIFF_WIN_PCT\", \"HOME_TEAM_WINS\"]].groupby(['DIFF_WIN_PCT'], as_index=False).mean()\n",
    "g = sns.barplot(x='DIFF_WIN_PCT', y='HOME_TEAM_WINS', data=plot, color=\"LightSeaGreen\")\n",
    "plt.rcParams[\"axes.labelsize\"] = 8"
   ]
  },
  {
   "cell_type": "code",
   "execution_count": null,
   "id": "ce5357b4",
   "metadata": {},
   "outputs": [],
   "source": [
    "def transform(df):\n",
    "    HOME_TEAM_FG_PCT_AVG = pd.qcut(df['HOME_TEAM_FG_PCT_AVG'], q = 10, retbins= True)\n",
    "    df['HOME_TEAM_FG_PCT_AVG'] = HOME_TEAM_FG_PCT_AVG[0]\n",
    "    return df\n",
    "train_copy = train.copy()\n",
    "transform(train_copy)\n",
    "\n",
    "plt.figure(figsize=(6,3))\n",
    "plot = train_copy[[\"HOME_TEAM_FG_PCT_AVG\", \"HOME_TEAM_WINS\"]].groupby(['HOME_TEAM_FG_PCT_AVG'], as_index=False).mean()\n",
    "g = sns.barplot(x='HOME_TEAM_FG_PCT_AVG', y='HOME_TEAM_WINS', data=plot, color=\"LightSeaGreen\")\n",
    "plt.rcParams[\"axes.labelsize\"] = 8"
   ]
  },
  {
   "cell_type": "code",
   "execution_count": null,
   "id": "33f326c4",
   "metadata": {},
   "outputs": [],
   "source": [
    "def transform(df):\n",
    "    DIFF_REB_AVG = pd.qcut(df['DIFF_REB_AVG'], q = 10, retbins= True)\n",
    "    df['DIFF_REB_AVG'] = DIFF_REB_AVG[0]\n",
    "    return df\n",
    "train_copy = train.copy()\n",
    "transform(train_copy)\n",
    "\n",
    "plt.figure(figsize=(6,3))\n",
    "plot = train_copy[[\"DIFF_REB_AVG\", \"HOME_TEAM_WINS\"]].groupby(['DIFF_REB_AVG'], as_index=False).mean()\n",
    "g = sns.barplot(x='DIFF_REB_AVG', y='HOME_TEAM_WINS', data=plot, color=\"LightSeaGreen\")\n",
    "plt.rcParams[\"axes.labelsize\"] = 8"
   ]
  },
  {
   "cell_type": "code",
   "execution_count": null,
   "id": "7599501c",
   "metadata": {},
   "outputs": [],
   "source": [
    "def transform(df):\n",
    "    DIFF_PTS_AVG = pd.qcut(df['DIFF_PTS_AVG'], q = 10, retbins= True)\n",
    "    df['DIFF_PTS_AVG'] = DIFF_PTS_AVG[0]\n",
    "    return df\n",
    "train_copy = train.copy()\n",
    "transform(train_copy)\n",
    "\n",
    "plt.figure(figsize=(6,3))\n",
    "plot = train_copy[[\"DIFF_PTS_AVG\", \"HOME_TEAM_WINS\"]].groupby(['DIFF_PTS_AVG'], as_index=False).mean()\n",
    "g = sns.barplot(x='DIFF_PTS_AVG', y='HOME_TEAM_WINS', data=plot, color=\"LightSeaGreen\")\n",
    "plt.rcParams[\"axes.labelsize\"] = 8"
   ]
  },
  {
   "attachments": {},
   "cell_type": "markdown",
   "id": "42d63016",
   "metadata": {},
   "source": [
    "None of the predictors exhibited a polynomial trend, leading us not to pursue feature transformation"
   ]
  },
  {
   "cell_type": "markdown",
   "id": "6444e611",
   "metadata": {},
   "source": [
    "### Code fitting the final model"
   ]
  },
  {
   "cell_type": "code",
   "execution_count": null,
   "id": "eb8518b9",
   "metadata": {},
   "outputs": [],
   "source": [
    "selected_features_1 = ['DIFF_WIN_PCT', 'HOME_TEAM_FG_PCT_AVG', 'DIFF_REB_AVG', 'DIFF_PTS_AVG']\n",
    "sklearn_model.fit(X[selected_features_1], y)\n",
    "y_pred_test = sklearn_model.predict(test1[selected_features_1])\n",
    "print('Accuracy of logistic regression on test set : {:.4f}'.format(sklearn_model.score(X_test[selected_features_1], y_test)))"
   ]
  },
  {
   "cell_type": "code",
   "execution_count": null,
   "id": "f1dfae05",
   "metadata": {},
   "outputs": [],
   "source": [
    "from sklearn.metrics import confusion_matrix\n",
    "print(confusion_matrix(y_test, y_pred_test), \": is the confusion matrix \\n\")\n",
    "from sklearn.metrics import accuracy_score\n",
    "print(accuracy_score(y_test, y_pred_test), \": is the accuracy score\")\n",
    "from sklearn.metrics import precision_score\n",
    "print(precision_score(y_test, y_pred_test), \": is the precision score\")\n",
    "from sklearn.metrics import recall_score\n",
    "print(recall_score(y_test, y_pred_test), \": is the recall score\")\n",
    "from sklearn.metrics import f1_score\n",
    "print(f1_score(y_test, y_pred_test), \": is the f1 score\")"
   ]
  }
 ],
 "metadata": {
  "kernelspec": {
   "display_name": "Python 3 (ipykernel)",
   "language": "python",
   "name": "python3"
  },
  "language_info": {
   "codemirror_mode": {
    "name": "ipython",
    "version": 3
   },
   "file_extension": ".py",
   "mimetype": "text/x-python",
   "name": "python",
   "nbconvert_exporter": "python",
   "pygments_lexer": "ipython3",
   "version": "3.8.9"
  }
 },
 "nbformat": 4,
 "nbformat_minor": 5
}
